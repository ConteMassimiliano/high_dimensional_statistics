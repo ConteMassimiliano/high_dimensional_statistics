{
 "cells": [
  {
   "cell_type": "markdown",
   "metadata": {},
   "source": [
    "# Selenium "
   ]
  },
  {
   "cell_type": "code",
   "execution_count": 2,
   "metadata": {},
   "outputs": [
    {
     "name": "stderr",
     "output_type": "stream",
     "text": [
      "C:\\Users\\Max\\anaconda3\\lib\\site-packages\\ipykernel_launcher.py:7: DeprecationWarning: use options instead of chrome_options\n",
      "  import sys\n"
     ]
    }
   ],
   "source": [
    "from selenium import webdriver\n",
    "\n",
    "options = webdriver.ChromeOptions()\n",
    "options.add_argument('--ignore-certificate-errors')\n",
    "options.add_argument('--incognito')\n",
    "options.add_argument('--headless')\n",
    "driver = webdriver.Chrome(\"chromedriver\", chrome_options=options)"
   ]
  },
  {
   "cell_type": "code",
   "execution_count": 65,
   "metadata": {},
   "outputs": [
    {
     "name": "stdout",
     "output_type": "stream",
     "text": [
      "Scraping breakfast\n",
      "Scraping lunch\n",
      "Scraping dinner\n",
      "Scraping desserts\n",
      "Scraping snacks\n"
     ]
    }
   ],
   "source": [
    "import time\n",
    "import requests\n",
    "from bs4 import BeautifulSoup\n",
    "\n",
    "URL = \"https://tasty.co/topic/\"\n",
    "recipe_categories = [\"breakfast\", \"lunch\", \"dinner\", \"desserts\", \"snacks\"]\n",
    "\n",
    "recipes_urls = []\n",
    "n_recipes_per_cat = {cat : 0 for cat in recipe_categories}\n",
    "\n",
    "\n",
    "for category in recipe_categories:\n",
    "    print(f\"Scraping {category}\")\n",
    "    full_url = URL + category \n",
    "    driver.get(full_url)\n",
    "    show_more = driver.find_elements_by_css_selector(\"button.button--tasty.bold.xs-block.xs-mx-auto.xs-col-12.md-width-auto\")\n",
    "    while len(show_more) > 0:\n",
    "        driver.execute_script(\"arguments[0].click();\", show_more[0])\n",
    "        time.sleep(3)\n",
    "        show_more = driver.find_elements_by_css_selector(\"button.button--tasty.bold.xs-block.xs-mx-auto.xs-col-12.md-width-auto\")\n",
    "            \n",
    "    page_source = driver.page_source\n",
    "    \n",
    "    soup = BeautifulSoup(page_source, \"lxml\")\n",
    "    results = soup.findAll(\"a\")\n",
    "    for link in results:\n",
    "        if \"/recipe\" in link[\"href\"]:\n",
    "            recipes_urls.append(link[\"href\"])\n",
    "            n_recipes_per_cat[category] += 1"
   ]
  },
  {
   "cell_type": "code",
   "execution_count": 66,
   "metadata": {},
   "outputs": [
    {
     "data": {
      "text/plain": [
       "{'breakfast': 627, 'lunch': 783, 'dinner': 760, 'desserts': 260, 'snacks': 140}"
      ]
     },
     "execution_count": 66,
     "metadata": {},
     "output_type": "execute_result"
    }
   ],
   "source": [
    "n_recipes_per_cat"
   ]
  },
  {
   "cell_type": "code",
   "execution_count": 67,
   "metadata": {},
   "outputs": [
    {
     "data": {
      "text/plain": [
       "2570"
      ]
     },
     "execution_count": 67,
     "metadata": {},
     "output_type": "execute_result"
    }
   ],
   "source": [
    "len(recipes_urls)"
   ]
  },
  {
   "cell_type": "code",
   "execution_count": 68,
   "metadata": {},
   "outputs": [],
   "source": [
    "import pickle\n",
    "with open('url_list.pkl', 'wb') as handle:\n",
    "    pickle.dump(recipes_urls, handle, protocol=pickle.HIGHEST_PROTOCOL)\n",
    "    \n",
    "# with open('url_list.pkl', 'rb') as handle:\n",
    "#     recipes_urls = pickle.load(handle)"
   ]
  },
  {
   "cell_type": "code",
   "execution_count": 70,
   "metadata": {},
   "outputs": [
    {
     "data": {
      "text/plain": [
       "2570"
      ]
     },
     "execution_count": 70,
     "metadata": {},
     "output_type": "execute_result"
    }
   ],
   "source": [
    "len(recipes_urls)"
   ]
  },
  {
   "cell_type": "markdown",
   "metadata": {},
   "source": [
    "# 45 min"
   ]
  },
  {
   "cell_type": "code",
   "execution_count": 75,
   "metadata": {},
   "outputs": [],
   "source": [
    "import requests\n",
    "from bs4 import BeautifulSoup\n",
    "\n",
    "\n",
    "def get_ingredients_list(url):\n",
    "    ingredients = []\n",
    "    page = requests.get(url)\n",
    "    soup = BeautifulSoup(page.content, \"html.parser\")\n",
    "    results = soup.find_all(\"ul\", class_ = \"list-unstyled xs-text-3\")\n",
    "    if len(results) > 0:\n",
    "        results = results[0].find_all(\"li\", class_ = \"ingredient xs-mb1 xs-mt0\")\n",
    "        \n",
    "        for ingedient in results:\n",
    "            ingredients.append(ingedient.text)\n",
    "    \n",
    "    return ingredients\n",
    "\n",
    "recipes_ingredients = []\n",
    "\n",
    "for url in recipes_urls:\n",
    "    full_url = \"https://tasty.co/\" + url\n",
    "    recipes_ingredients.append(get_ingredients_list(full_url))"
   ]
  },
  {
   "cell_type": "code",
   "execution_count": 76,
   "metadata": {},
   "outputs": [
    {
     "data": {
      "text/plain": [
       "23153"
      ]
     },
     "execution_count": 76,
     "metadata": {},
     "output_type": "execute_result"
    }
   ],
   "source": [
    "sum([len(ingrs) for ingrs in recipes_ingredients])"
   ]
  },
  {
   "cell_type": "code",
   "execution_count": 77,
   "metadata": {},
   "outputs": [],
   "source": [
    "import pickle\n",
    "with open('tasty_ingredients.pkl', 'wb') as handle:\n",
    "    pickle.dump(recipes_ingredients, handle, protocol=pickle.HIGHEST_PROTOCOL)\n",
    "    \n",
    "# with open('tasty_ingredients.pkl', 'rb') as handle:\n",
    "#     recipes_ingredients = pickle.load(handle)"
   ]
  }
 ],
 "metadata": {
  "interpreter": {
   "hash": "9e49e9e5b94ffbcf92b38e6bbae369d81093e2039295ffe956729ef7e2f8d3e1"
  },
  "kernelspec": {
   "display_name": "Python 3.7.9 64-bit ('base': conda)",
   "language": "python",
   "name": "python3"
  },
  "language_info": {
   "codemirror_mode": {
    "name": "ipython",
    "version": 3
   },
   "file_extension": ".py",
   "mimetype": "text/x-python",
   "name": "python",
   "nbconvert_exporter": "python",
   "pygments_lexer": "ipython3",
   "version": "3.7.9"
  },
  "orig_nbformat": 4
 },
 "nbformat": 4,
 "nbformat_minor": 2
}
