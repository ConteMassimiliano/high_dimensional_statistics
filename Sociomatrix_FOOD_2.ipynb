{
  "cells": [
    {
      "cell_type": "markdown",
      "metadata": {
        "id": "vCB8YgQhkDP1"
      },
      "source": [
        "# Carico le ricette"
      ]
    },
    {
      "cell_type": "code",
      "execution_count": 1,
      "metadata": {
        "id": "P2OqtGPUkDP3"
      },
      "outputs": [],
      "source": [
        "import pickle\n",
        "\n",
        "with open('tasty_ingredients.pkl', 'rb') as handle:\n",
        "    tasty_ingredients = pickle.load(handle)\n",
        "\n",
        "with open('giallo_ingredients.pkl', 'rb') as handle:\n",
        "    giallo_ingredients = pickle.load(handle)  \n",
        "    \n",
        "with open('giallo_ingredients_ita.pkl', 'rb') as handle:\n",
        "    giallo_ingredients_ita = pickle.load(handle)  \n",
        "    \n",
        "giallo_ingredients_ita = [[ing.lower() for ing in recipe] for recipe in giallo_ingredients_ita]\n",
        "giallo_ingredients.extend(giallo_ingredients_ita)"
      ]
    },
    {
      "cell_type": "markdown",
      "metadata": {
        "id": "8CkBqLiAkDP4"
      },
      "source": [
        "## Parole univoche"
      ]
    },
    {
      "cell_type": "code",
      "execution_count": 2,
      "metadata": {
        "colab": {
          "base_uri": "https://localhost:8080/"
        },
        "id": "XEgB9njbkDP5",
        "outputId": "075d8fac-36bf-406e-fcc5-ae6a49b535d8"
      },
      "outputs": [
        {
          "name": "stdout",
          "output_type": "stream",
          "text": [
            "Abbiamo 2283 parole univoche\n"
          ]
        }
      ],
      "source": [
        "import re\n",
        "regex = re.compile('[^a-zA-Z ]')\n",
        "words = set()\n",
        "\n",
        "for recipe in tasty_ingredients + giallo_ingredients:\n",
        "    for ingredient in recipe:\n",
        "        ingredient = regex.sub('', ingredient)\n",
        "        ingredient_words = ingredient.split()\n",
        "        for w in ingredient_words:\n",
        "            words.add(w.lower())\n",
        "\n",
        "print(f\"Abbiamo {len(words)} parole univoche\")\n",
        "#print(words)     "
      ]
    },
    {
      "cell_type": "markdown",
      "metadata": {
        "id": "ZR9xVpdzkDP5"
      },
      "source": [
        "# Lista di ingredienti trovata online"
      ]
    },
    {
      "cell_type": "code",
      "execution_count": 3,
      "metadata": {
        "colab": {
          "base_uri": "https://localhost:8080/"
        },
        "id": "5OD8TTn-kDP6",
        "outputId": "ac1ab2e0-6992-40f2-919f-bdd716b3445a"
      },
      "outputs": [
        {
          "name": "stderr",
          "output_type": "stream",
          "text": [
            "C:\\Users\\Max\\anaconda3\\lib\\site-packages\\numpy\\_distributor_init.py:32: UserWarning: loaded more than 1 DLL from .libs:\n",
            "C:\\Users\\Max\\anaconda3\\lib\\site-packages\\numpy\\.libs\\libopenblas.PYQHXLVVQ7VESDPUVUADXEVJOBGHJPAY.gfortran-win_amd64.dll\n",
            "C:\\Users\\Max\\anaconda3\\lib\\site-packages\\numpy\\.libs\\libopenblas.WCDJNK7YVMPZQ2ME2ZZHJJRJ3JIKNDB7.gfortran-win_amd64.dll\n",
            "  stacklevel=1)\n"
          ]
        },
        {
          "data": {
            "text/plain": [
              "9932"
            ]
          },
          "execution_count": 3,
          "metadata": {},
          "output_type": "execute_result"
        }
      ],
      "source": [
        "import json\n",
        "import numpy as np\n",
        "\n",
        "with open('ingredients.json', 'rb') as handle:\n",
        "    ingredients_list = json.load(handle)  \n",
        "    \n",
        "ingredients_list = [ingredient[\"name\"].lower() for ingredient in ingredients_list[\"tags\"] if len(ingredient[\"name\"].lower()) > 2]\n",
        "\n",
        "ingredients_list = np.array(ingredients_list)\n",
        "len(ingredients_list)"
      ]
    },
    {
      "cell_type": "markdown",
      "metadata": {
        "id": "FOyaw7vJkDP6"
      },
      "source": [
        "# Sociomatrice"
      ]
    },
    {
      "cell_type": "code",
      "execution_count": 4,
      "metadata": {
        "id": "64cqzEv9kDP7"
      },
      "outputs": [],
      "source": [
        "ingredients_dictionary = {\n",
        "    \"salt\": [\"salt\"],\n",
        "    \"sugar\": [\"sugar\"],\n",
        "    \"water\": [\"water\", \"ice\"],\n",
        "    \"cereals\": [\"cereal\", \"cereals\", \"oat\", \"barley\", \"malt\", \"flakes\",\"quinoa\"], # cereali \n",
        "    \"oil\": [\"oil\"],\n",
        "    \"flour\": [\"flour\", \"starch\"], #farina-amido\n",
        "    \"fruits\": [\"apple\", \"apples\", \"grape\", \"orange\", \"oranges\", \"strawberry\", \"strawberries\",\n",
        "               \"raspberry\", \"pineapple\", \"cranberry\", \"cherry\", \"cherries\", \"banana\", \"bananas\",\n",
        "               \"mango\", \"mangos\", \"cucumber\", \"peach\", \"peaches\", \"kiwi\", \"kiwis\", \"berries\",\n",
        "               \"plum\", \"plums\", \"melon\", \"cider\", \"lemon\", \"lemons\",\"figs\",\"pear\",\"limes\",\"lime\",\"pomegranate\"],\n",
        "    \"milk\": [\"milk\",\"wholemilk\"],\n",
        "    \"nuts\": [\"seed\", \"seeds\", \"nut\", \"nuts\", \"almond\", \"almonds\", \"peanut\", \"peanuts\", \"sesame\",\n",
        "              \"hazelnut\",\"pistachio\"],\n",
        "    \"onion\": [\"onion\"],\n",
        "    \"garlic\": [\"garlic\"],\n",
        "    \"chocolate\": [\"cocoa\", \"chocolate\", \"dark-chocolate\"],\n",
        "    \"yeast\": [\"yeast\", \"sourdough\"], # lievito\n",
        "    \"egg\": [\"egg\", \"eggs\",\"yolk\",\"yolks\"],\n",
        "    \"vinegar\": [\"vinegar\"], #aceto\n",
        "    \"tomato\": [\"tomato\", \"passato\", \"passata\",\"datterino\",\"datterini\"],\n",
        "    \"cream\": [\"cream\"],\n",
        "    \"rice\": [\"rice\", \"rices\",\"basmati\",\"carnaroli\"],\n",
        "    \"corn\": [\"corn\"],\n",
        "    \"cheese\": [\"cheese\", \"cheddar\", \"mozzarella\", \"parmisan\", \"parmigiano\", \"grana\", \"pecorino\",\n",
        "               \"gorgonzola\", \"taleggio\", \"caciotta\", \"ricotta\", \"provola\", \"provolone\",\n",
        "               \"mascarpone\", \"montasio\", \"piave\", \"asiago\", \"puzzone\", \"quartirolo\",\n",
        "               \"scamorza\", \"stracchino\",\"robiola\",\"roquefort\",\"queso\"],\n",
        "    \"butter\": [\"butter\"],\n",
        "    \"pork\": [\"pork\", \"ham\", \"bacon\", \"salami\",\"ribs\",\"sausage\",\"mortadella\",\"wurstel\",\"bratwurst\"], # maiale\n",
        "    \"beef\": [\"ribeye\", \"beef\", \"veal\",\"roast-beef\",\"bresaola\",\"ossibuchi\",\"chunk\",\"beefsteak\"],\n",
        "    \"white meat\": [\"chicken\", \"chickens\" \"bun\", \"turquey\", \"fowl\",\"quail\",\"pigeon\"], # manzo\n",
        "    \"potato\": [\"potato\", \"potatos\"],\n",
        "    \"honey\": [\"honey\"],\n",
        "    \"paprika\": [\"paprika\"],\n",
        "    \"mustard\": [\"mustard\"],\n",
        "    \"turmeric\": [\"turmeric\"], # curcuma\n",
        "    \"ginger\": [\"ginger\"],\n",
        "    \"parsley\": [\"parsley\"],\n",
        "    \"cinnamon\": [\"cinnamon\"],\n",
        "    \"wine\": [\"wine\",\"prosecco\",\"moscato\",\"pinot\"],\n",
        "    \"beer\": [\"beer\"],\n",
        "    \"alchool\": [\"sake\",\"limoncello\",\"marsala\",\"rum\",\"rhum\",\"porto\",\"brandy\",\"whiskey\",\"whisky\",\"grappa\",\"bourbon\",\"liqueur\"],\n",
        "    \"chili\": [\"chili\", \"jalapeno\"],\n",
        "    \"mushrooms\": [\"mushroom\", \"mushrooms\",\"mushroomsoaking\",\"porcini\"],\n",
        "    \"bread\": [\"bread\",\"breadcrumbs\",\"breadcrumb\"],\n",
        "    \"pasta\": [\"pasta\",\"tagliatelle\",\"lasagne\",\"farfalle\",\"rigatoni\",\"paccheri\",\"strozzapreti\",\"macaroni\",\"linguine\",\"spaghetti\",\"maniche\",\n",
        "              \"pappardelle\",\"tortellini\",\"ravioli\",\"gnocchi\"],\n",
        "    \"fish\": [\"fish\", \"salmon\", \"swordfish\", \"cod\", \"codfish\", \"sardines\", \"tuna\", \"trout\", \"trouts\",\n",
        "             \"mackerel\", \"mackerels\", \"herring\", \"herrings\", \"hailbut\", \"halibuts\",\"anchovies\"],\n",
        "    \"seafood\": [\"seafood\", \"lobsters\", \"mussels\", \"crab\", \"crabs\", \"shrimp\", \"crayfish\",\n",
        "                \"prawn\", \"clams\",\"oyster\",\"scampi\", \"squid\", \"squids\", \"octopus\"],\n",
        "    \"veggies\": [\"spinach\", \"fennel\", \"carrot\", \"carrots\", \"celery\", \"celeries\", \"peppers\",\n",
        "                \"cabbage\", \"kale\", \"chicory\",\"zucchini\",\"eggplant\",\"eggplants\" ],\n",
        "    \"legumes\": [\"chickpea\", \"chickpeas\", \"pea\", \"peas\", \"beans\", \"bean\", \"soy\", \"lentils\"],\n",
        "    \"pepper\": [\"peppercorns\", \"pepper\",\"pepperoncini\",\"friggitelli\"],\n",
        "    \"coffee\": [\"coffee\",\"espresso\",\"cappuccino\"]\n",
        "}"
      ]
    },
    {
      "cell_type": "code",
      "execution_count": 5,
      "metadata": {
        "id": "5HKZt7ePkDP8"
      },
      "outputs": [],
      "source": [
        "import numpy as np\n",
        "regex = re.compile('[^a-zA-Z ]')\n",
        "import itertools\n",
        "\n",
        "ingredients_list = np.array(list(ingredients_dictionary.keys()))\n",
        "n = len(ingredients_dictionary)\n",
        "socio_giallo = np.zeros((n,n))\n",
        "socio_tasty = np.zeros((n,n))\n",
        "\n",
        "n_rec_giallo =len(giallo_ingredients)\n",
        "n_rec_tasty = len(tasty_ingredients)\n",
        "\n",
        "np.random.seed(0)\n",
        "\n",
        "subsampled_indexes = np.random.choice(n_rec_tasty, size=n_rec_giallo, replace=True)\n",
        "tasty_ingredients = [tasty_ingredients[i] for i in subsampled_indexes]\n",
        "\n",
        "mean_ingr_per_recipe_giallo = 0\n",
        "mean_ingr_per_recipe_tasty = 0\n",
        "\n",
        "for recipe in tasty_ingredients:\n",
        "    ingredients_in_recipe = set()\n",
        "    for ingredient in recipe:\n",
        "        ingredient = regex.sub('', ingredient)\n",
        "        for key_food, psuedo_list in ingredients_dictionary.items():\n",
        "            for w in psuedo_list:\n",
        "                if w in ingredient:\n",
        "                    ingredients_in_recipe.add(key_food)\n",
        "    for subset in itertools.combinations(ingredients_in_recipe, 2):\n",
        "        i = np.argwhere(subset[0] == ingredients_list)\n",
        "        j = np.argwhere(subset[1] == ingredients_list)\n",
        "        socio_tasty[i, j] += 1\n",
        "        socio_tasty[j, i] += 1\n",
        "    mean_ingr_per_recipe_giallo += len(ingredients_in_recipe)\n",
        "    \n",
        "for recipe in giallo_ingredients:\n",
        "    ingredients_in_recipe = set()\n",
        "    for ingredient in recipe:\n",
        "        ingredient = regex.sub('', ingredient)\n",
        "        for key_food, psuedo_list in ingredients_dictionary.items():\n",
        "            for w in psuedo_list:\n",
        "                if w in ingredient:\n",
        "                    ingredients_in_recipe.add(key_food)\n",
        "    for subset in itertools.combinations(ingredients_in_recipe, 2):\n",
        "        i = np.argwhere(subset[0] == ingredients_list)\n",
        "        j = np.argwhere(subset[1] == ingredients_list)\n",
        "        socio_giallo[i, j] += 1\n",
        "        socio_giallo[j, i] += 1\n",
        "    mean_ingr_per_recipe_tasty += len(ingredients_in_recipe)\n",
        "\n",
        "\n",
        "mean_ingr_per_recipe_giallo /= n_rec_giallo\n",
        "mean_ingr_per_recipe_tasty  /= n_rec_giallo\n",
        "# Le interazioni vengono contate 2 volte\n",
        "socio_giallo /= 2\n",
        "socio_tasty  /= 2"
      ]
    },
    {
      "cell_type": "code",
      "execution_count": 6,
      "metadata": {
        "colab": {
          "base_uri": "https://localhost:8080/",
          "height": 656
        },
        "id": "SieGChpCkDP-",
        "outputId": "23547d06-4957-4aaa-d418-02bdcfed6d7c"
      },
      "outputs": [
        {
          "data": {
            "image/png": "[encoded data removed]",
            "text/plain": [
              "<Figure size 864x720 with 1 Axes>"
            ]
          },
          "metadata": {
            "needs_background": "light"
          },
          "output_type": "display_data"
        }
      ],
      "source": [
        "import matplotlib.pyplot as plt\n",
        "import pandas as pd\n",
        "\n",
        "plt.rcParams['axes.grid'] = True\n",
        "plt.rcParams['grid.alpha'] = 1\n",
        "plt.rcParams['grid.color'] = \"#cccccc\"\n",
        "plt.rcParams['axes.axisbelow'] = True\n",
        "plt.rcParams['grid.linestyle'] = \"dashed\"\n",
        "import seaborn as sns\n",
        "\n",
        "plt.figure(figsize=(12,10))\n",
        "\n",
        "socio_giallo_df = pd.DataFrame(socio_giallo,\n",
        "                               columns=ingredients_list, index=ingredients_list)\n",
        "\n",
        "sns.heatmap(np.log(socio_giallo_df + 0.01), annot=False, cbar = False)\n",
        "plt.title(\"Sociomatrix GialloZafferano\")\n",
        "plt.show()"
      ]
    },
    {
      "cell_type": "code",
      "execution_count": 7,
      "metadata": {
        "colab": {
          "base_uri": "https://localhost:8080/",
          "height": 656
        },
        "id": "TkiGryStkDP_",
        "outputId": "1c919b2a-954a-4a0c-9c2a-69e93eb5654a"
      },
      "outputs": [
        {
          "data": {
            "image/png": "[encoded data removed]",
            "text/plain": [
              "<Figure size 864x720 with 1 Axes>"
            ]
          },
          "metadata": {
            "needs_background": "light"
          },
          "output_type": "display_data"
        }
      ],
      "source": [
        "plt.figure(figsize=(12,10))\n",
        "\n",
        "socio_tasty_df = pd.DataFrame(socio_tasty,\n",
        "                               columns=ingredients_list, index=ingredients_list)\n",
        "\n",
        "sns.heatmap(np.log(socio_tasty_df + 0.1), annot=False, cbar = False)\n",
        "plt.title(\"Sociomatrix Tasty\")\n",
        "plt.show()"
      ]
    },
    {
      "cell_type": "code",
      "execution_count": 8,
      "metadata": {
        "colab": {
          "base_uri": "https://localhost:8080/",
          "height": 244
        },
        "id": "Y_Zer2CckDP9",
        "outputId": "86f847fa-27e1-49cf-d83a-50f00bf7b0f4"
      },
      "outputs": [
        {
          "name": "stdout",
          "output_type": "stream",
          "text": [
            "------------------------------------------------------------------------------------------\n",
            "\n",
            "      GIALLO SOCIOMATRIX:\n",
            "      *** There are 1387 recipes.\n",
            "      *** There are 45 ingredients.\n",
            "      *** There are 7.41 ingredients per recipe, in mean.\n",
            "      *** Grand mean: 17.81 interactions per couple of ingredients.\n",
            "      *** Edge density: 77.78%\n",
            "      *** Diameter: 2\n",
            "      *** Max degree: 44 (cheese)\n",
            "      \n",
            "------------------------------------------------------------------------------------------\n"
          ]
        }
      ],
      "source": [
        "import networkx as nx\n",
        "\n",
        "G_giallo = nx.from_numpy_array(socio_giallo)\n",
        "\n",
        "n_recipes = len(giallo_ingredients)\n",
        "n = socio_giallo.shape[0]\n",
        "\n",
        "grand_mean = np.sum(socio_giallo)/(n * (n-1)) # no diagonal\n",
        "connections_density = np.sum(socio_giallo!=0)/(n * (n-1)) # no diagonal\n",
        "\n",
        "# Sono uguali perchè la matrice è simmetrica\n",
        "row_mean = np.mean(socio_giallo_df, axis=1)\n",
        "col_mean = np.mean(socio_giallo_df, axis=0)\n",
        "degree = np.sum(socio_giallo_df!=0, axis=1)\n",
        "\n",
        "diameter = nx.diameter(G_giallo)\n",
        "max_degree = np.max(degree)\n",
        "which_max_degree = \", \".join([str(ingredients_list[i][0]) for i in np.argwhere(np.array(degree) == max_degree)])\n",
        "\n",
        "print(\"------------------------------------------------------------------------------------------\")\n",
        "print(f\"\"\"\n",
        "      GIALLO SOCIOMATRIX:\n",
        "      *** There are {n_recipes} recipes.\n",
        "      *** There are {n} ingredients.\n",
        "      *** There are {round(mean_ingr_per_recipe_giallo,2)} ingredients per recipe, in mean.\n",
        "      *** Grand mean: {round(grand_mean,2)} interactions per couple of ingredients.\n",
        "      *** Edge density: {round(connections_density*100,2)}%\n",
        "      *** Diameter: {diameter}\n",
        "      *** Max degree: {int(max_degree)} ({which_max_degree})\n",
        "      \"\"\")\n",
        "print(\"------------------------------------------------------------------------------------------\")"
      ]
    },
    {
      "cell_type": "code",
      "execution_count": 9,
      "metadata": {
        "id": "X9uhnRrUkDP-"
      },
      "outputs": [
        {
          "name": "stdout",
          "output_type": "stream",
          "text": [
            "------------------------------------------------------------------------------------------\n",
            "\n",
            "      TASTY SOCIOMATRIX:\n",
            "      *** There are 1387 recipes.\n",
            "      *** There are 45 ingredients.\n",
            "      *** There are 7.09 ingredients per recipe, in mean.\n",
            "      *** Grand mean: 20.43 interactions per couple of ingredients.\n",
            "      *** Edge density: 89.9%\n",
            "      *** Diameter: 2\n",
            "      *** Max degree: 44 (salt, water, flour, egg)\n",
            "      \n",
            "------------------------------------------------------------------------------------------\n"
          ]
        }
      ],
      "source": [
        "G_tasty = nx.from_numpy_array(socio_tasty)\n",
        "\n",
        "n_recipes = len(tasty_ingredients)\n",
        "n = socio_tasty.shape[0]\n",
        "\n",
        "grand_mean = np.sum(socio_tasty)/(n * (n-1)) # no diagonal\n",
        "connections_density = np.sum(socio_tasty!=0)/(n * (n-1)) # no diagonal\n",
        "\n",
        "# Sono uguali perchè la matrice è simmetrica\n",
        "row_mean = np.mean(socio_tasty_df, axis=1)\n",
        "col_mean = np.mean(socio_tasty_df, axis=0)\n",
        "degree = np.sum(socio_tasty_df!=0, axis=1)\n",
        "\n",
        "diameter = nx.diameter(G_tasty)\n",
        "max_degree = np.max(degree)\n",
        "which_max_degree = \", \".join([str(ingredients_list[i][0]) for i in np.argwhere(np.array(degree) == max_degree)])\n",
        "\n",
        "print(\"------------------------------------------------------------------------------------------\")\n",
        "print(f\"\"\"\n",
        "      TASTY SOCIOMATRIX:\n",
        "      *** There are {n_recipes} recipes.\n",
        "      *** There are {n} ingredients.\n",
        "      *** There are {round(mean_ingr_per_recipe_tasty,2)} ingredients per recipe, in mean.\n",
        "      *** Grand mean: {round(grand_mean,2)} interactions per couple of ingredients.\n",
        "      *** Edge density: {round(connections_density*100,2)}%\n",
        "      *** Diameter: {diameter}\n",
        "      *** Max degree: {int(max_degree)} ({which_max_degree})\n",
        "      \"\"\")\n",
        "print(\"------------------------------------------------------------------------------------------\")"
      ]
    },
    {
      "cell_type": "markdown",
      "metadata": {},
      "source": [
        "# Numero di collegamenti per ingrediente"
      ]
    },
    {
      "cell_type": "code",
      "execution_count": 10,
      "metadata": {},
      "outputs": [
        {
          "data": {
            "text/html": [
              "<div>\n",
              "<style scoped>\n",
              "    .dataframe tbody tr th:only-of-type {\n",
              "        vertical-align: middle;\n",
              "    }\n",
              "\n",
              "    .dataframe tbody tr th {\n",
              "        vertical-align: top;\n",
              "    }\n",
              "\n",
              "    .dataframe thead th {\n",
              "        text-align: right;\n",
              "    }\n",
              "</style>\n",
              "<table border=\"1\" class=\"dataframe\">\n",
              "  <thead>\n",
              "    <tr style=\"text-align: right;\">\n",
              "      <th></th>\n",
              "      <th>Giallo</th>\n",
              "      <th>Tasty</th>\n",
              "    </tr>\n",
              "  </thead>\n",
              "  <tbody>\n",
              "    <tr>\n",
              "      <th>salt</th>\n",
              "      <td>43</td>\n",
              "      <td>44</td>\n",
              "    </tr>\n",
              "    <tr>\n",
              "      <th>water</th>\n",
              "      <td>43</td>\n",
              "      <td>44</td>\n",
              "    </tr>\n",
              "    <tr>\n",
              "      <th>egg</th>\n",
              "      <td>43</td>\n",
              "      <td>44</td>\n",
              "    </tr>\n",
              "    <tr>\n",
              "      <th>cheese</th>\n",
              "      <td>44</td>\n",
              "      <td>42</td>\n",
              "    </tr>\n",
              "    <tr>\n",
              "      <th>oil</th>\n",
              "      <td>43</td>\n",
              "      <td>43</td>\n",
              "    </tr>\n",
              "    <tr>\n",
              "      <th>nuts</th>\n",
              "      <td>43</td>\n",
              "      <td>42</td>\n",
              "    </tr>\n",
              "    <tr>\n",
              "      <th>pepper</th>\n",
              "      <td>42</td>\n",
              "      <td>43</td>\n",
              "    </tr>\n",
              "    <tr>\n",
              "      <th>flour</th>\n",
              "      <td>41</td>\n",
              "      <td>44</td>\n",
              "    </tr>\n",
              "    <tr>\n",
              "      <th>fruits</th>\n",
              "      <td>41</td>\n",
              "      <td>43</td>\n",
              "    </tr>\n",
              "    <tr>\n",
              "      <th>milk</th>\n",
              "      <td>40</td>\n",
              "      <td>43</td>\n",
              "    </tr>\n",
              "    <tr>\n",
              "      <th>tomato</th>\n",
              "      <td>41</td>\n",
              "      <td>42</td>\n",
              "    </tr>\n",
              "    <tr>\n",
              "      <th>onion</th>\n",
              "      <td>41</td>\n",
              "      <td>42</td>\n",
              "    </tr>\n",
              "    <tr>\n",
              "      <th>legumes</th>\n",
              "      <td>39</td>\n",
              "      <td>43</td>\n",
              "    </tr>\n",
              "    <tr>\n",
              "      <th>sugar</th>\n",
              "      <td>40</td>\n",
              "      <td>42</td>\n",
              "    </tr>\n",
              "    <tr>\n",
              "      <th>butter</th>\n",
              "      <td>39</td>\n",
              "      <td>43</td>\n",
              "    </tr>\n",
              "    <tr>\n",
              "      <th>veggies</th>\n",
              "      <td>38</td>\n",
              "      <td>43</td>\n",
              "    </tr>\n",
              "    <tr>\n",
              "      <th>alchool</th>\n",
              "      <td>40</td>\n",
              "      <td>41</td>\n",
              "    </tr>\n",
              "    <tr>\n",
              "      <th>bread</th>\n",
              "      <td>38</td>\n",
              "      <td>43</td>\n",
              "    </tr>\n",
              "    <tr>\n",
              "      <th>vinegar</th>\n",
              "      <td>37</td>\n",
              "      <td>43</td>\n",
              "    </tr>\n",
              "    <tr>\n",
              "      <th>garlic</th>\n",
              "      <td>37</td>\n",
              "      <td>42</td>\n",
              "    </tr>\n",
              "    <tr>\n",
              "      <th>cream</th>\n",
              "      <td>37</td>\n",
              "      <td>42</td>\n",
              "    </tr>\n",
              "    <tr>\n",
              "      <th>corn</th>\n",
              "      <td>38</td>\n",
              "      <td>40</td>\n",
              "    </tr>\n",
              "    <tr>\n",
              "      <th>cereals</th>\n",
              "      <td>35</td>\n",
              "      <td>43</td>\n",
              "    </tr>\n",
              "    <tr>\n",
              "      <th>wine</th>\n",
              "      <td>39</td>\n",
              "      <td>38</td>\n",
              "    </tr>\n",
              "    <tr>\n",
              "      <th>potato</th>\n",
              "      <td>35</td>\n",
              "      <td>42</td>\n",
              "    </tr>\n",
              "    <tr>\n",
              "      <th>fish</th>\n",
              "      <td>37</td>\n",
              "      <td>40</td>\n",
              "    </tr>\n",
              "    <tr>\n",
              "      <th>pork</th>\n",
              "      <td>35</td>\n",
              "      <td>41</td>\n",
              "    </tr>\n",
              "    <tr>\n",
              "      <th>parsley</th>\n",
              "      <td>34</td>\n",
              "      <td>42</td>\n",
              "    </tr>\n",
              "    <tr>\n",
              "      <th>honey</th>\n",
              "      <td>34</td>\n",
              "      <td>39</td>\n",
              "    </tr>\n",
              "    <tr>\n",
              "      <th>paprika</th>\n",
              "      <td>31</td>\n",
              "      <td>42</td>\n",
              "    </tr>\n",
              "    <tr>\n",
              "      <th>rice</th>\n",
              "      <td>33</td>\n",
              "      <td>39</td>\n",
              "    </tr>\n",
              "    <tr>\n",
              "      <th>chili</th>\n",
              "      <td>29</td>\n",
              "      <td>42</td>\n",
              "    </tr>\n",
              "    <tr>\n",
              "      <th>seafood</th>\n",
              "      <td>32</td>\n",
              "      <td>37</td>\n",
              "    </tr>\n",
              "    <tr>\n",
              "      <th>ginger</th>\n",
              "      <td>29</td>\n",
              "      <td>40</td>\n",
              "    </tr>\n",
              "    <tr>\n",
              "      <th>beef</th>\n",
              "      <td>28</td>\n",
              "      <td>40</td>\n",
              "    </tr>\n",
              "    <tr>\n",
              "      <th>mustard</th>\n",
              "      <td>32</td>\n",
              "      <td>36</td>\n",
              "    </tr>\n",
              "    <tr>\n",
              "      <th>pasta</th>\n",
              "      <td>30</td>\n",
              "      <td>38</td>\n",
              "    </tr>\n",
              "    <tr>\n",
              "      <th>yeast</th>\n",
              "      <td>32</td>\n",
              "      <td>35</td>\n",
              "    </tr>\n",
              "    <tr>\n",
              "      <th>white meat</th>\n",
              "      <td>25</td>\n",
              "      <td>41</td>\n",
              "    </tr>\n",
              "    <tr>\n",
              "      <th>cinnamon</th>\n",
              "      <td>28</td>\n",
              "      <td>35</td>\n",
              "    </tr>\n",
              "    <tr>\n",
              "      <th>mushrooms</th>\n",
              "      <td>22</td>\n",
              "      <td>39</td>\n",
              "    </tr>\n",
              "    <tr>\n",
              "      <th>chocolate</th>\n",
              "      <td>23</td>\n",
              "      <td>27</td>\n",
              "    </tr>\n",
              "    <tr>\n",
              "      <th>turmeric</th>\n",
              "      <td>16</td>\n",
              "      <td>31</td>\n",
              "    </tr>\n",
              "    <tr>\n",
              "      <th>beer</th>\n",
              "      <td>7</td>\n",
              "      <td>26</td>\n",
              "    </tr>\n",
              "    <tr>\n",
              "      <th>coffee</th>\n",
              "      <td>6</td>\n",
              "      <td>9</td>\n",
              "    </tr>\n",
              "  </tbody>\n",
              "</table>\n",
              "</div>"
            ],
            "text/plain": [
              "            Giallo  Tasty\n",
              "salt            43     44\n",
              "water           43     44\n",
              "egg             43     44\n",
              "cheese          44     42\n",
              "oil             43     43\n",
              "nuts            43     42\n",
              "pepper          42     43\n",
              "flour           41     44\n",
              "fruits          41     43\n",
              "milk            40     43\n",
              "tomato          41     42\n",
              "onion           41     42\n",
              "legumes         39     43\n",
              "sugar           40     42\n",
              "butter          39     43\n",
              "veggies         38     43\n",
              "alchool         40     41\n",
              "bread           38     43\n",
              "vinegar         37     43\n",
              "garlic          37     42\n",
              "cream           37     42\n",
              "corn            38     40\n",
              "cereals         35     43\n",
              "wine            39     38\n",
              "potato          35     42\n",
              "fish            37     40\n",
              "pork            35     41\n",
              "parsley         34     42\n",
              "honey           34     39\n",
              "paprika         31     42\n",
              "rice            33     39\n",
              "chili           29     42\n",
              "seafood         32     37\n",
              "ginger          29     40\n",
              "beef            28     40\n",
              "mustard         32     36\n",
              "pasta           30     38\n",
              "yeast           32     35\n",
              "white meat      25     41\n",
              "cinnamon        28     35\n",
              "mushrooms       22     39\n",
              "chocolate       23     27\n",
              "turmeric        16     31\n",
              "beer             7     26\n",
              "coffee           6      9"
            ]
          },
          "execution_count": 10,
          "metadata": {},
          "output_type": "execute_result"
        }
      ],
      "source": [
        "degree = pd.DataFrame({\"Giallo\": (socio_giallo_df!=0).sum(), \"Tasty\": (socio_tasty_df!=0).sum()})\n",
        "degree.loc[(degree.Giallo + degree.Tasty).sort_values(ascending = False).index]"
      ]
    },
    {
      "cell_type": "code",
      "execution_count": 64,
      "metadata": {},
      "outputs": [
        {
          "data": {
            "image/png": "[encoded data removed]",
            "text/plain": [
              "<Figure size 720x576 with 1 Axes>"
            ]
          },
          "metadata": {
            "needs_background": "light"
          },
          "output_type": "display_data"
        }
      ],
      "source": [
        "def compare_histograms(data_tasty, data_giallo, xrange = None, yrange = None, title = None, n_bins = 8, lw = 7, legend_loc = \"upper left\"):\n",
        "        \n",
        "        fig, ax = plt.subplots(1,1, figsize = (10,8))\n",
        "\n",
        "        ax.hist(data_tasty, bins=n_bins, density = True, color = \"mediumblue\", linewidth = lw,\n",
        "                edgecolor='mediumblue', alpha = 0.8, label = \"Tasty\", histtype='step')\n",
        "\n",
        "\n",
        "        ax.hist(data_giallo, bins=n_bins, density = True, color = \"gold\", linewidth = lw,\n",
        "                edgecolor='gold', alpha =0.8, label = \"GialloZafferano\", histtype='step')\n",
        "\n",
        "\n",
        "        ax.grid(False)\n",
        "        ax.set_xlim(xrange)\n",
        "        ax.set_ylim(yrange)\n",
        "        ax.set_title(title)\n",
        "\n",
        "        ax.legend(loc = legend_loc)\n",
        "\n",
        "        plt.show()\n",
        "\n",
        "compare_histograms(degree.Tasty, degree.Giallo,\n",
        "                   xrange = [0, 45], yrange = [0, 0.17],\n",
        "                   title = \"Degree distribution\",\n",
        "                   n_bins = 8, lw = 7)"
      ]
    },
    {
      "cell_type": "code",
      "execution_count": 70,
      "metadata": {},
      "outputs": [
        {
          "data": {
            "image/png": "[encoded data removed]",
            "text/plain": [
              "<Figure size 720x576 with 1 Axes>"
            ]
          },
          "metadata": {
            "needs_background": "light"
          },
          "output_type": "display_data"
        }
      ],
      "source": [
        "compare_histograms(np.mean(socio_tasty, axis=1), np.mean(socio_giallo, axis=1),\n",
        "                   xrange = [0, 100], yrange = [0, 0.045],\n",
        "                   title = \"Row (column) mean distribution\",\n",
        "                   n_bins = 5, lw = 7, legend_loc = \"upper right\")"
      ]
    },
    {
      "cell_type": "markdown",
      "metadata": {},
      "source": [
        "## Differenze nella sociomatrice\n",
        "Quali accoppiate in tasty e non in giallo?"
      ]
    },
    {
      "cell_type": "code",
      "execution_count": 74,
      "metadata": {},
      "outputs": [
        {
          "name": "stdout",
          "output_type": "stream",
          "text": [
            "\n",
            "Tasty 135 exlusive combinations:\n",
            "salt with coffee, sugar with parsley, sugar with mushrooms, water with coffee, cereals with garlic, cereals with beef, cereals with white meat, cereals with turmeric, cereals with parsley, cereals with cinnamon, cereals with beer, cereals with mushrooms, flour with turmeric, flour with chili, flour with coffee, fruits with turmeric, fruits with beer, milk with ginger, milk with chili, milk with coffee, nuts with mushrooms, onion with beer, garlic with cream, garlic with rice, garlic with turmeric, garlic with beer, chocolate with rice, chocolate with pork, chocolate with beef, chocolate with cinnamon, chocolate with bread, chocolate with veggies, chocolate with pepper, yeast with vinegar, yeast with paprika, yeast with mustard, yeast with turmeric, yeast with chili, yeast with pasta, egg with beer, vinegar with cream, vinegar with turmeric, vinegar with cinnamon, vinegar with beer, vinegar with mushrooms, tomato with beer, cream with rice, cream with white meat, cream with paprika, cream with cinnamon, cream with beer, rice with beef, rice with white meat, rice with potato, rice with parsley, corn with turmeric, corn with ginger, corn with mushrooms, corn with bread, butter with white meat, butter with beer, butter with chili, butter with coffee, pork with white meat, pork with honey, pork with paprika, pork with ginger, pork with chili, beef with white meat, beef with honey, beef with paprika, beef with ginger, beef with beer, beef with chili, beef with mushrooms, beef with pasta, beef with legumes, white meat with paprika, white meat with turmeric, white meat with ginger, white meat with cinnamon, white meat with beer, white meat with chili, white meat with mushrooms, white meat with pasta, white meat with fish, white meat with seafood, potato with turmeric, potato with ginger, potato with beer, potato with chili, potato with mushrooms, potato with pasta, potato with seafood, honey with parsley, honey with chili, honey with seafood, paprika with cinnamon, paprika with beer, paprika with mushrooms, paprika with pasta, paprika with fish, paprika with veggies, mustard with turmeric, mustard with beer, mustard with chili, mustard with mushrooms, mustard with pasta, turmeric with parsley, turmeric with alchool, turmeric with mushrooms, turmeric with pasta, turmeric with seafood, turmeric with veggies, ginger with parsley, ginger with wine, ginger with mushrooms, ginger with pasta, ginger with seafood, parsley with cinnamon, parsley with beer, cinnamon with chili, cinnamon with legumes, beer with chili, beer with bread, beer with fish, beer with veggies, beer with legumes, alchool with mushrooms, chili with bread, mushrooms with fish, mushrooms with seafood, mushrooms with veggies, mushrooms with legumes, bread with coffee \n",
            "\n",
            "\n",
            "Giallo 15 exlusive combinations:\n",
            "nuts with beer, nuts with coffee, chocolate with corn, chocolate with potato, chocolate with wine, yeast with rice, yeast with fish, yeast with seafood, cream with mustard, cream with coffee, corn with mustard, cheese with turmeric, cheese with coffee, cinnamon with wine, cinnamon with alchool      \n",
            "\n"
          ]
        }
      ],
      "source": [
        "tasty_exclusive_combos =  []\n",
        "giallo_exclusive_combos = []\n",
        "for i, ingr_i in enumerate(ingredients_list):\n",
        "    for j, ingr_j in enumerate(ingredients_list):\n",
        "        if i < j:\n",
        "            if socio_tasty[i, j] != 0 and socio_giallo[i, j] == 0:\n",
        "                tasty_exclusive_combos.append((ingr_i, ingr_j))\n",
        "            if socio_tasty[i, j] == 0 and socio_giallo[i, j] != 0:\n",
        "                giallo_exclusive_combos.append((ingr_i, ingr_j))\n",
        "print(f\"\"\"\n",
        "Tasty {len(tasty_exclusive_combos)} exlusive combinations:\n",
        "{\", \".join([i + \" with \" + j for i,j in tasty_exclusive_combos])} \n",
        "\n",
        "\n",
        "Giallo {len(giallo_exclusive_combos)} exlusive combinations:\n",
        "{\", \".join([i + \" with \" + j for i,j in giallo_exclusive_combos])}      \n",
        "\"\"\")"
      ]
    },
    {
      "cell_type": "markdown",
      "metadata": {},
      "source": [
        "## Alimenti con alta differenza di grado"
      ]
    },
    {
      "cell_type": "code",
      "execution_count": 76,
      "metadata": {},
      "outputs": [
        {
          "data": {
            "text/html": [
              "<div>\n",
              "<style scoped>\n",
              "    .dataframe tbody tr th:only-of-type {\n",
              "        vertical-align: middle;\n",
              "    }\n",
              "\n",
              "    .dataframe tbody tr th {\n",
              "        vertical-align: top;\n",
              "    }\n",
              "\n",
              "    .dataframe thead th {\n",
              "        text-align: right;\n",
              "    }\n",
              "</style>\n",
              "<table border=\"1\" class=\"dataframe\">\n",
              "  <thead>\n",
              "    <tr style=\"text-align: right;\">\n",
              "      <th></th>\n",
              "      <th>Giallo</th>\n",
              "      <th>Tasty</th>\n",
              "      <th>Difference</th>\n",
              "    </tr>\n",
              "  </thead>\n",
              "  <tbody>\n",
              "    <tr>\n",
              "      <th>beer</th>\n",
              "      <td>7</td>\n",
              "      <td>26</td>\n",
              "      <td>19</td>\n",
              "    </tr>\n",
              "    <tr>\n",
              "      <th>mushrooms</th>\n",
              "      <td>22</td>\n",
              "      <td>39</td>\n",
              "      <td>17</td>\n",
              "    </tr>\n",
              "    <tr>\n",
              "      <th>white meat</th>\n",
              "      <td>25</td>\n",
              "      <td>41</td>\n",
              "      <td>16</td>\n",
              "    </tr>\n",
              "    <tr>\n",
              "      <th>turmeric</th>\n",
              "      <td>16</td>\n",
              "      <td>31</td>\n",
              "      <td>15</td>\n",
              "    </tr>\n",
              "    <tr>\n",
              "      <th>chili</th>\n",
              "      <td>29</td>\n",
              "      <td>42</td>\n",
              "      <td>13</td>\n",
              "    </tr>\n",
              "    <tr>\n",
              "      <th>beef</th>\n",
              "      <td>28</td>\n",
              "      <td>40</td>\n",
              "      <td>12</td>\n",
              "    </tr>\n",
              "    <tr>\n",
              "      <th>paprika</th>\n",
              "      <td>31</td>\n",
              "      <td>42</td>\n",
              "      <td>11</td>\n",
              "    </tr>\n",
              "    <tr>\n",
              "      <th>ginger</th>\n",
              "      <td>29</td>\n",
              "      <td>40</td>\n",
              "      <td>11</td>\n",
              "    </tr>\n",
              "    <tr>\n",
              "      <th>cereals</th>\n",
              "      <td>35</td>\n",
              "      <td>43</td>\n",
              "      <td>8</td>\n",
              "    </tr>\n",
              "    <tr>\n",
              "      <th>parsley</th>\n",
              "      <td>34</td>\n",
              "      <td>42</td>\n",
              "      <td>8</td>\n",
              "    </tr>\n",
              "  </tbody>\n",
              "</table>\n",
              "</div>"
            ],
            "text/plain": [
              "            Giallo  Tasty  Difference\n",
              "beer             7     26          19\n",
              "mushrooms       22     39          17\n",
              "white meat      25     41          16\n",
              "turmeric        16     31          15\n",
              "chili           29     42          13\n",
              "beef            28     40          12\n",
              "paprika         31     42          11\n",
              "ginger          29     40          11\n",
              "cereals         35     43           8\n",
              "parsley         34     42           8"
            ]
          },
          "execution_count": 76,
          "metadata": {},
          "output_type": "execute_result"
        }
      ],
      "source": [
        "degree_diff = pd.DataFrame({\"Giallo\": degree.Giallo,\n",
        "                            \"Tasty\": degree.Tasty,\n",
        "                            \"Difference\": np.abs(degree.Giallo - degree.Tasty)})\n",
        "degree_diff.sort_values(by = \"Difference\" ,ascending = False).iloc[:10,:]"
      ]
    },
    {
      "cell_type": "code",
      "execution_count": 77,
      "metadata": {},
      "outputs": [
        {
          "data": {
            "text/html": [
              "<div>\n",
              "<style scoped>\n",
              "    .dataframe tbody tr th:only-of-type {\n",
              "        vertical-align: middle;\n",
              "    }\n",
              "\n",
              "    .dataframe tbody tr th {\n",
              "        vertical-align: top;\n",
              "    }\n",
              "\n",
              "    .dataframe thead th {\n",
              "        text-align: right;\n",
              "    }\n",
              "</style>\n",
              "<table border=\"1\" class=\"dataframe\">\n",
              "  <thead>\n",
              "    <tr style=\"text-align: right;\">\n",
              "      <th></th>\n",
              "      <th>Giallo</th>\n",
              "      <th>Tasty</th>\n",
              "      <th>Difference</th>\n",
              "    </tr>\n",
              "  </thead>\n",
              "  <tbody>\n",
              "    <tr>\n",
              "      <th>nuts</th>\n",
              "      <td>43</td>\n",
              "      <td>42</td>\n",
              "      <td>1</td>\n",
              "    </tr>\n",
              "    <tr>\n",
              "      <th>cheese</th>\n",
              "      <td>44</td>\n",
              "      <td>42</td>\n",
              "      <td>2</td>\n",
              "    </tr>\n",
              "    <tr>\n",
              "      <th>wine</th>\n",
              "      <td>39</td>\n",
              "      <td>38</td>\n",
              "      <td>1</td>\n",
              "    </tr>\n",
              "  </tbody>\n",
              "</table>\n",
              "</div>"
            ],
            "text/plain": [
              "        Giallo  Tasty  Difference\n",
              "nuts        43     42           1\n",
              "cheese      44     42           2\n",
              "wine        39     38           1"
            ]
          },
          "execution_count": 77,
          "metadata": {},
          "output_type": "execute_result"
        }
      ],
      "source": [
        "degree_diff.loc[degree_diff.Giallo > degree_diff.Tasty,:]"
      ]
    }
  ],
  "metadata": {
    "colab": {
      "name": "giallo_sociomatrix2.ipynb",
      "provenance": []
    },
    "interpreter": {
      "hash": "9e49e9e5b94ffbcf92b38e6bbae369d81093e2039295ffe956729ef7e2f8d3e1"
    },
    "kernelspec": {
      "display_name": "Python 3.7.9 64-bit ('base': conda)",
      "language": "python",
      "name": "python3"
    },
    "language_info": {
      "codemirror_mode": {
        "name": "ipython",
        "version": 3
      },
      "file_extension": ".py",
      "mimetype": "text/x-python",
      "name": "python",
      "nbconvert_exporter": "python",
      "pygments_lexer": "ipython3",
      "version": "3.7.9"
    },
    "orig_nbformat": 4
  },
  "nbformat": 4,
  "nbformat_minor": 0
}
