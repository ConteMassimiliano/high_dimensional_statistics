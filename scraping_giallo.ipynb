{
 "cells": [
  {
   "cell_type": "markdown",
   "metadata": {},
   "source": [
    "# URLs"
   ]
  },
  {
   "cell_type": "code",
   "execution_count": 27,
   "metadata": {},
   "outputs": [],
   "source": [
    "import requests\n",
    "from bs4 import BeautifulSoup\n",
    "\n",
    "URL = \"https://www.giallozafferano.com/recipes-list/\"\n",
    "recipe_categories = [\"Appetizers\", \"First-Courses\", \"Main-Courses\", \"Sweets-and-Desserts\", \"Leavened-products\"]\n",
    "\n",
    "recipes_urls = []\n",
    "n_recipes_per_cat = {cat : 0 for cat in recipe_categories}\n",
    "\n",
    "for category in recipe_categories:\n",
    "    full_url = URL + category + \"/\"\n",
    "    page = requests.get(full_url)\n",
    "\n",
    "    soup = BeautifulSoup(page.content, \"html.parser\")\n",
    "    results = soup.find_all(\"h2\", class_ = \"gz-title\")\n",
    "    for recipe in results:\n",
    "        recipes_urls.append( recipe.find_all(\"a\")[0][\"href\"] )\n",
    "        n_recipes_per_cat[category] += 1\n",
    "        \n",
    "    additional_pages = [link[\"href\"] for link in soup.find_all(\"a\", class_ = \"page\")][1:]  \n",
    "        \n",
    "    for next_page in additional_pages:\n",
    "        next_url = full_url + next_page[6:]\n",
    "        page = requests.get(next_url)\n",
    "        soup = BeautifulSoup(page.content, \"html.parser\")\n",
    "        results = soup.find_all(\"h2\", class_ = \"gz-title\")\n",
    "        for recipe in results:\n",
    "            recipes_urls.append( recipe.find_all(\"a\")[0][\"href\"] )\n",
    "            n_recipes_per_cat[category] += 1\n"
   ]
  },
  {
   "cell_type": "code",
   "execution_count": 28,
   "metadata": {},
   "outputs": [
    {
     "name": "stdout",
     "output_type": "stream",
     "text": [
      "376\n",
      "{'Appetizers': 61, 'First-Courses': 111, 'Main-Courses': 72, 'Sweets-and-Desserts': 104, 'Leavened-products': 28}\n"
     ]
    }
   ],
   "source": [
    "print(len(recipes_urls))\n",
    "print(n_recipes_per_cat)"
   ]
  },
  {
   "cell_type": "code",
   "execution_count": 29,
   "metadata": {},
   "outputs": [
    {
     "data": {
      "text/plain": [
       "['https://www.giallozafferano.com/recipes/Vegetable-pie.html',\n",
       " 'https://www.giallozafferano.com/recipes/Gourmet-panettone.html']"
      ]
     },
     "execution_count": 29,
     "metadata": {},
     "output_type": "execute_result"
    }
   ],
   "source": [
    "recipes_urls[:2]"
   ]
  }
 ],
 "metadata": {
  "interpreter": {
   "hash": "9e49e9e5b94ffbcf92b38e6bbae369d81093e2039295ffe956729ef7e2f8d3e1"
  },
  "kernelspec": {
   "display_name": "Python 3.7.9 64-bit ('base': conda)",
   "language": "python",
   "name": "python3"
  },
  "language_info": {
   "codemirror_mode": {
    "name": "ipython",
    "version": 3
   },
   "file_extension": ".py",
   "mimetype": "text/x-python",
   "name": "python",
   "nbconvert_exporter": "python",
   "pygments_lexer": "ipython3",
   "version": "3.7.9"
  },
  "orig_nbformat": 4
 },
 "nbformat": 4,
 "nbformat_minor": 2
}
