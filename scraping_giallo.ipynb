{
  "cells": [
    {
      "cell_type": "markdown",
      "metadata": {
        "id": "yyvx8INL-O6l"
      },
      "source": [
        "# URLs"
      ]
    },
    {
      "cell_type": "code",
      "execution_count": 8,
      "metadata": {
        "id": "qElBVgkz-O6o"
      },
      "outputs": [],
      "source": [
        "import requests\n",
        "from bs4 import BeautifulSoup\n",
        "\n",
        "URL = \"https://www.giallozafferano.com/recipes-list/\"\n",
        "recipe_categories = [\"Appetizers\", \"First-Courses\", \"Main-Courses\", \"Sweets-and-Desserts\", \"Leavened-products\"]\n",
        "\n",
        "recipes_urls = []\n",
        "n_recipes_per_cat = {cat : 0 for cat in recipe_categories}\n",
        "\n",
        "for category in recipe_categories:\n",
        "    full_url = URL + category + \"/\"\n",
        "    page = requests.get(full_url)\n",
        "\n",
        "    soup = BeautifulSoup(page.content, \"html.parser\")\n",
        "    results = soup.find_all(\"h2\", class_ = \"gz-title\")\n",
        "    for recipe in results:\n",
        "        recipes_urls.append( recipe.find_all(\"a\")[0][\"href\"] )\n",
        "        n_recipes_per_cat[category] += 1\n",
        "        \n",
        "    additional_pages = [link[\"href\"] for link in soup.find_all(\"a\", class_ = \"page\")][1:]  \n",
        "        \n",
        "    for next_page in additional_pages:\n",
        "        next_url = full_url + next_page[6:]\n",
        "        page = requests.get(next_url)\n",
        "        soup = BeautifulSoup(page.content, \"html.parser\")\n",
        "        results = soup.find_all(\"h2\", class_ = \"gz-title\")\n",
        "        for recipe in results:\n",
        "            recipes_urls.append( recipe.find_all(\"a\")[0][\"href\"] )\n",
        "            n_recipes_per_cat[category] += 1\n"
      ]
    },
    {
      "cell_type": "code",
      "execution_count": 9,
      "metadata": {
        "colab": {
          "base_uri": "https://localhost:8080/"
        },
        "id": "tLN9Ixs0-O6q",
        "outputId": "cb2517a6-f87b-4eae-f05c-393c9c8268c8"
      },
      "outputs": [
        {
          "output_type": "stream",
          "name": "stdout",
          "text": [
            "378\n",
            "{'Appetizers': 62, 'First-Courses': 111, 'Main-Courses': 73, 'Sweets-and-Desserts': 104, 'Leavened-products': 28}\n"
          ]
        }
      ],
      "source": [
        "print(len(recipes_urls))\n",
        "print(n_recipes_per_cat)"
      ]
    },
    {
      "cell_type": "code",
      "execution_count": 10,
      "metadata": {
        "colab": {
          "base_uri": "https://localhost:8080/"
        },
        "id": "WEhvsk9s-O6s",
        "outputId": "318f03e5-ead4-4d70-b2e5-5f5ac7df02ef"
      },
      "outputs": [
        {
          "output_type": "execute_result",
          "data": {
            "text/plain": [
              "['https://www.giallozafferano.com/recipes/Potato-tart.html',\n",
              " 'https://www.giallozafferano.com/recipes/Vegetable-pie.html']"
            ]
          },
          "metadata": {},
          "execution_count": 10
        }
      ],
      "source": [
        "recipes_urls[:2]"
      ]
    },
    {
      "cell_type": "code",
      "source": [
        "from bs4 import BeautifulSoup as soup\n",
        "from urllib.request import urlopen as uReq\n",
        "\n",
        "\n",
        "pages = recipes_urls\n",
        "\n",
        "list_of_names=[]\n",
        "list_of_list_ing=[]\n",
        "for j in range(len(pages)):\n",
        " uClient = uReq(pages[j])\n",
        " page_html=uClient.read()\n",
        " uClient.close()\n",
        " page_soup = soup(page_html, \"html.parser\")\n",
        "\n",
        "\n",
        " rec_name = page_soup.find(\"h1\")\n",
        " name = rec_name.get_text()\n",
        " list_of_names.append(name)\n",
        " ingredients = page_soup.findAll(\"dd\")\n",
        "\n",
        "\n",
        "\n",
        " length=len(ingredients)\n",
        " \n",
        " ing_list=[]\n",
        " for element in ingredients:\n",
        "   text_raw = element.get_text()\n",
        "   name_raw = text_raw.split(\"\\t\")[0]\n",
        "   name = name_raw.replace(\"\\n\",\"\")\n",
        "   name = name.replace(\"'\",\"\")\n",
        "   ing_list.append(name)\n",
        " list_of_list_ing.append(ing_list)"
      ],
      "metadata": {
        "id": "xiMHuxa1-Rvx"
      },
      "execution_count": 11,
      "outputs": []
    },
    {
      "cell_type": "code",
      "source": [
        "list_of_names"
      ],
      "metadata": {
        "colab": {
          "base_uri": "https://localhost:8080/"
        },
        "id": "KnbNOPAE-2wm",
        "outputId": "05bc2bc3-c6d7-42ef-a247-963e9941c887"
      },
      "execution_count": 13,
      "outputs": [
        {
          "output_type": "execute_result",
          "data": {
            "text/plain": [
              "378"
            ]
          },
          "metadata": {},
          "execution_count": 13
        }
      ]
    },
    {
      "cell_type": "code",
      "source": [
        "list_of_list_ing"
      ],
      "metadata": {
        "id": "v7hsmpqjDd7M"
      },
      "execution_count": null,
      "outputs": []
    }
  ],
  "metadata": {
    "interpreter": {
      "hash": "9e49e9e5b94ffbcf92b38e6bbae369d81093e2039295ffe956729ef7e2f8d3e1"
    },
    "kernelspec": {
      "display_name": "Python 3.7.9 64-bit ('base': conda)",
      "language": "python",
      "name": "python3"
    },
    "language_info": {
      "codemirror_mode": {
        "name": "ipython",
        "version": 3
      },
      "file_extension": ".py",
      "mimetype": "text/x-python",
      "name": "python",
      "nbconvert_exporter": "python",
      "pygments_lexer": "ipython3",
      "version": "3.7.9"
    },
    "orig_nbformat": 4,
    "colab": {
      "name": "scraping_giallo.ipynb",
      "provenance": []
    }
  },
  "nbformat": 4,
  "nbformat_minor": 0
}